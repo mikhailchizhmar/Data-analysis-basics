{
 "cells": [
  {
   "cell_type": "markdown",
   "metadata": {},
   "source": [
    "Здравствуйте!\n",
    "\n",
    "Правила проведения контрольной работы: пользоваться можно чем угодно, но общаться ни с кем не надо – за это может быть штраф. И за выбор не своего варианта может быть штраф.\n",
    "\n",
    "Контрольная работа проходит в [webinar.ru](webinar.ru) в общем зале с включённым звуком у всех и – по просьбе преподавателя – с демонстрацией всего экрана **(а не какого-то отдельного окна – выбирайте левую верхнюю опцию)**. Поэтому постарайтесь найти нешумное место на время контрольной работы. Организационные и прочие уместные **вопросы задавайте письменно в чате, а не голосом**; за вопросы голосом в общем зале во время работы может быть штраф. Собственные наушники|аудиоколонки поставьте на минимальную громкость, чтобы случайные посторонние звуки в [webinar.ru](webinar.ru) не отвлекали вас.\n",
    "\n",
    "Если Вы встретитесь с **непреодолимыми затруднениями** при решении какой-либо задачи, можете обратиться письменно в чате к преподавателю за **подсказкой**. Но каждая подсказка предполагает штраф (2 балла из 10). Также можете попробовать **написать код для задач, следующих за нерешённой задачей**. Если он окажется верен, то получите за него какую-то часть балла.\n",
    "\n",
    "Запустите следующий чанк для получения задач. Решайте задачи прямо в **этом** скрипте. Выполненную работу (этот скрипт с решёнными задачами и итоговый файл формата .xlsx ) отправьте на адрес [task.hse.1@gmail.com](task.hse.1@gmail.com) не позднее 90 минут с начала работы."
   ]
  },
  {
   "cell_type": "code",
   "execution_count": 1,
   "metadata": {},
   "outputs": [
    {
     "name": "stdin",
     "output_type": "stream",
     "text": [
      "Впишите свои фамилию и имя:  Шибина Яна\n"
     ]
    },
    {
     "data": {
      "text/html": [
       "<div>\n",
       "<style scoped>\n",
       "    .dataframe tbody tr th:only-of-type {\n",
       "        vertical-align: middle;\n",
       "    }\n",
       "\n",
       "    .dataframe tbody tr th {\n",
       "        vertical-align: top;\n",
       "    }\n",
       "\n",
       "    .dataframe thead th {\n",
       "        text-align: right;\n",
       "    }\n",
       "</style>\n",
       "<table border=\"1\" class=\"dataframe\">\n",
       "  <thead>\n",
       "    <tr style=\"text-align: right;\">\n",
       "      <th></th>\n",
       "      <th>Вариант</th>\n",
       "      <th>ФИО</th>\n",
       "    </tr>\n",
       "  </thead>\n",
       "  <tbody>\n",
       "    <tr>\n",
       "      <th>27</th>\n",
       "      <td>43</td>\n",
       "      <td>Шибина Яна Геннадьевна</td>\n",
       "    </tr>\n",
       "    <tr>\n",
       "      <th>71</th>\n",
       "      <td>43</td>\n",
       "      <td>Шибина Яна Геннадьевна</td>\n",
       "    </tr>\n",
       "    <tr>\n",
       "      <th>115</th>\n",
       "      <td>43</td>\n",
       "      <td>Шибина Яна Геннадьевна</td>\n",
       "    </tr>\n",
       "    <tr>\n",
       "      <th>163</th>\n",
       "      <td>43</td>\n",
       "      <td>Шибина Яна Геннадьевна</td>\n",
       "    </tr>\n",
       "  </tbody>\n",
       "</table>\n",
       "</div>"
      ],
      "text/plain": [
       "    Вариант                     ФИО\n",
       "27       43  Шибина Яна Геннадьевна\n",
       "71       43  Шибина Яна Геннадьевна\n",
       "115      43  Шибина Яна Геннадьевна\n",
       "163      43  Шибина Яна Геннадьевна"
      ]
     },
     "metadata": {},
     "output_type": "display_data"
    },
    {
     "name": "stdin",
     "output_type": "stream",
     "text": [
      "Это Вы? Для подтверждения впишите НОМЕР ВАРИАНТА, соответствующий Вашим ФИО:  43\n"
     ]
    },
    {
     "name": "stdout",
     "output_type": "stream",
     "text": [
      "***\n",
      "Задача 0. Пропишите в чанке Jupyter все предварительные команды (по-программистски, \"предложения\"), необходимые для выгрузки данных о конкурсах с сайта FL.ru посредством пакета requests.\n",
      "***\n",
      "Задача 1. Создайте алгоритм, который выясняет, закреплён ли самый верхний на странице (на момент обращения к сайту) конкурс, и записывает результат во вновь созданный датафрейм pandas.\n",
      "***\n",
      "Задача 2. Создайте алгоритм, который выясняет раздел, к которому относится этот конкурс,, а также URL-адрес заказчика конкурса -- и записывает результат в созданный при выполнении предыдущей задачи датафрейм (в два новых столбца с релевантными названиями).\n",
      "***\n",
      "Задача 3. Создайте алгоритм, который выясняет, платный ли аккаунт у заказчика этого конкурса, и записывает результат в модифицированный при выполнении предыдущей задачи датафрейм.\n",
      "***\n",
      "Задача 4. Пропишите условную конструкцию: если в датафрейме одновременно 4 столбца и 1 строчка, то вывести на экран сообщение: \"Датафрейм готов\"; в противном случае вывести на экран сообщение: \"Датафрейм НЕ готов\".\n",
      "***\n",
      "Задача 5. Интегрируйте в условную конструкцию цикл, начинающийся при выполненнии условия условной конструкции и проходящийся по ячейкам датафрейма и проверяющий, что в них не пустота (т.е. не \"\") и не NaN; если обнаруживается пустота или NaN, то цикл прерывается и на экран выводится сообщение: \"Датафрейм НЕ готов\".\n",
      "***\n",
      "Задача 6. Выгрузите датафрейм в файл формата .xlsx .\n",
      "***\n",
      "Задача 7. Каталог ВКР ВШЭ: https://www.hse.ru/edu/vkr/ Создайте алгоритм, который находит аннотацию самой верхней на странице (на момент обращения к ней) ВКР и URL-адрес, ведущий на страницу кампуса|факультета, где эта ВКР написана. В итоговой выдаче не должно быть технических символов и|или двойных пробелов.\n",
      "***\n",
      "Убедитесь, что в скрипте на сдачу нет лишних чанков и лишних аргументов -- за каждый из них возможен штраф.\n",
      "***\n",
      "Убедитесь, что все чанки последовательно исполняются без ошибок.\n"
     ]
    }
   ],
   "source": [
    "variant = str(input('Впишите свои фамилию и имя: '))\n",
    "import pandas\n",
    "variantS = pandas.read_excel('Варианты1.xlsx')\n",
    "#variantS = pandas.read_csv('Варианты1.csv', encoding='utf8')\n",
    "variantS = variantS.dropna()\n",
    "variantS = variantS[variantS['ФИО'] != 0]\n",
    "if sum(variantS['ФИО'].str.contains(variant, case=False)) == 0:\n",
    "    print(\"Вы не найдены в списке студентов. Попробуйте перезапустить чанк и заново вписать свои фамилию и имя.\"\n",
    "          , \"Если это не поможет, обратитесь к преподавателю письменно в чате.\"\n",
    "          , sep='\\n')\n",
    "else:\n",
    "    display(variantS[variantS['ФИО'].str.contains(variant, case=False)].drop(variantS.columns[-1], axis=1))\n",
    "    variant = int(input('Это Вы? Для подтверждения впишите НОМЕР ВАРИАНТА, соответствующий Вашим ФИО: '))\n",
    "\n",
    "taskS = variantS.iloc[:-2, -1].str.split('.').str[0]\n",
    "taskS = taskS.value_counts()\n",
    "taskS = taskS.sort_index()\n",
    "\n",
    "for task in taskS.index:\n",
    "    # print('task', task)\n",
    "    if taskS[task] == 1:\n",
    "        row = variantS[variantS['Задача'].str.contains(task)].index[0]\n",
    "        print(f\"***\\n{variantS.loc[row, 'Задача']}\")\n",
    "    else:\n",
    "        row = variantS[(variantS['Задача'].str.contains(task)) & (variantS['Вариант'] == variant)].index[0]\n",
    "        print(f\"***\\n{variantS.loc[row, 'Задача']}\")\n",
    "\n",
    "print(f\"***\\n{variantS.iloc[-2, -1]}\\n***\\n{variantS.iloc[-1, -1]}\")"
   ]
  },
  {
   "cell_type": "code",
   "execution_count": null,
   "metadata": {},
   "outputs": [],
   "source": [
    "# Задача 0\n",
    "\n",
    "# response = requests.get(url_smmr, headers=headers)\n",
    "# response.text"
   ]
  },
  {
   "cell_type": "code",
   "execution_count": 37,
   "metadata": {},
   "outputs": [],
   "source": [
    "import requests, re, pandas as pd\n",
    "from bs4 import BeautifulSoup\n",
    "\n",
    "headers = {\n",
    "    \"User-Agent\": \"Mozilla/5.0 (Windows NT 10.0; Win64; x64) AppleWebKit/537.36 (KHTML, like Gecko) Chrome/118.0.0.0 Safari/537.36\"\n",
    "}"
   ]
  },
  {
   "cell_type": "code",
   "execution_count": 38,
   "metadata": {},
   "outputs": [
    {
     "name": "stderr",
     "output_type": "stream",
     "text": [
      "C:\\Users\\chizh\\AppData\\Local\\Temp\\ipykernel_17364\\1477932994.py:9: FutureWarning: Setting an item of incompatible dtype is deprecated and will raise in a future error of pandas. Value 'False' has dtype incompatible with float64, please explicitly cast to a compatible dtype first.\n",
      "  df.loc[url_project, 'Закреплён ли конкурс'] = 'post_pin' in block\n"
     ]
    },
    {
     "data": {
      "text/html": [
       "<div>\n",
       "<style scoped>\n",
       "    .dataframe tbody tr th:only-of-type {\n",
       "        vertical-align: middle;\n",
       "    }\n",
       "\n",
       "    .dataframe tbody tr th {\n",
       "        vertical-align: top;\n",
       "    }\n",
       "\n",
       "    .dataframe thead th {\n",
       "        text-align: right;\n",
       "    }\n",
       "</style>\n",
       "<table border=\"1\" class=\"dataframe\">\n",
       "  <thead>\n",
       "    <tr style=\"text-align: right;\">\n",
       "      <th></th>\n",
       "      <th>Закреплён ли конкурс</th>\n",
       "    </tr>\n",
       "  </thead>\n",
       "  <tbody>\n",
       "    <tr>\n",
       "      <th>https://www.fl.ru/projects/5245046/</th>\n",
       "      <td>False</td>\n",
       "    </tr>\n",
       "  </tbody>\n",
       "</table>\n",
       "</div>"
      ],
      "text/plain": [
       "                                    Закреплён ли конкурс\n",
       "https://www.fl.ru/projects/5245046/                False"
      ]
     },
     "execution_count": 38,
     "metadata": {},
     "output_type": "execute_result"
    }
   ],
   "source": [
    "# Задача 1\n",
    "\n",
    "df = pd.DataFrame()\n",
    "url_smmr = f'https://www.fl.ru/konkurs/'\n",
    "response = requests.get(url_smmr, headers=headers)\n",
    "block = str(BeautifulSoup(response.text).find_all('div', attrs={'id':'projects-list'})[0]\\\n",
    "    .find_all('div', attrs={'class':'b-post'})).split('b-post ')[1]\n",
    "url_project = 'https://www.fl.ru' + re.findall(r'/projects/\\d+/', block)[0]\n",
    "df.loc[url_project, 'Закреплён ли конкурс'] = 'post_pin' in block\n",
    "df"
   ]
  },
  {
   "cell_type": "code",
   "execution_count": 39,
   "metadata": {},
   "outputs": [
    {
     "data": {
      "text/html": [
       "<div>\n",
       "<style scoped>\n",
       "    .dataframe tbody tr th:only-of-type {\n",
       "        vertical-align: middle;\n",
       "    }\n",
       "\n",
       "    .dataframe tbody tr th {\n",
       "        vertical-align: top;\n",
       "    }\n",
       "\n",
       "    .dataframe thead th {\n",
       "        text-align: right;\n",
       "    }\n",
       "</style>\n",
       "<table border=\"1\" class=\"dataframe\">\n",
       "  <thead>\n",
       "    <tr style=\"text-align: right;\">\n",
       "      <th></th>\n",
       "      <th>Закреплён ли конкурс</th>\n",
       "      <th>Раздел</th>\n",
       "      <th>URL заказчика</th>\n",
       "    </tr>\n",
       "  </thead>\n",
       "  <tbody>\n",
       "    <tr>\n",
       "      <th>https://www.fl.ru/projects/5245046/</th>\n",
       "      <td>False</td>\n",
       "      <td>Дизайн и Арт/Логотипы</td>\n",
       "      <td>https://www.fl.ru/users/prosecutor34</td>\n",
       "    </tr>\n",
       "  </tbody>\n",
       "</table>\n",
       "</div>"
      ],
      "text/plain": [
       "                                    Закреплён ли конкурс  \\\n",
       "https://www.fl.ru/projects/5245046/                False   \n",
       "\n",
       "                                                    Раздел  \\\n",
       "https://www.fl.ru/projects/5245046/  Дизайн и Арт/Логотипы   \n",
       "\n",
       "                                                            URL заказчика  \n",
       "https://www.fl.ru/projects/5245046/  https://www.fl.ru/users/prosecutor34  "
      ]
     },
     "execution_count": 39,
     "metadata": {},
     "output_type": "execute_result"
    }
   ],
   "source": [
    "# Задача 2\n",
    "\n",
    "response = requests.get(url_project, headers=headers)\n",
    "soup = BeautifulSoup(response.text, \"html.parser\")\n",
    "\n",
    "chapter = \"\"\n",
    "for elem in soup.find_all(\"a\", class_=\"text-decoration-none link-hover-danger text-blue cursor-pointer\"):\n",
    "    chapter += elem.get_text() + \"/\"\n",
    "if chapter == \"\":\n",
    "    for elem in soup.find_all(\"a\", class_=\"1 text-decoration-none link-hover-danger text-blue cursor-pointer\"):\n",
    "        chapter += elem.get_text() + \"/\"\n",
    "chapter = chapter[:-1]\n",
    "df.loc[url_project, \"Раздел\"] = chapter\n",
    "\n",
    "df.loc[url_project, \"URL заказчика\"] = \"https://www.fl.ru\" + soup.find_all(\"a\")[70].get(\"href\")\n",
    "df"
   ]
  },
  {
   "cell_type": "code",
   "execution_count": 40,
   "metadata": {},
   "outputs": [
    {
     "name": "stderr",
     "output_type": "stream",
     "text": [
      "C:\\Users\\chizh\\AppData\\Local\\Temp\\ipykernel_17364\\1632654614.py:4: FutureWarning: Setting an item of incompatible dtype is deprecated and will raise in a future error of pandas. Value 'False' has dtype incompatible with float64, please explicitly cast to a compatible dtype first.\n",
      "  df.loc[url_project, \"Платный аккаунт\"] = \"Платный аккаунт\" in response2.text\n"
     ]
    },
    {
     "data": {
      "text/html": [
       "<div>\n",
       "<style scoped>\n",
       "    .dataframe tbody tr th:only-of-type {\n",
       "        vertical-align: middle;\n",
       "    }\n",
       "\n",
       "    .dataframe tbody tr th {\n",
       "        vertical-align: top;\n",
       "    }\n",
       "\n",
       "    .dataframe thead th {\n",
       "        text-align: right;\n",
       "    }\n",
       "</style>\n",
       "<table border=\"1\" class=\"dataframe\">\n",
       "  <thead>\n",
       "    <tr style=\"text-align: right;\">\n",
       "      <th></th>\n",
       "      <th>Закреплён ли конкурс</th>\n",
       "      <th>Раздел</th>\n",
       "      <th>URL заказчика</th>\n",
       "      <th>Платный аккаунт</th>\n",
       "    </tr>\n",
       "  </thead>\n",
       "  <tbody>\n",
       "    <tr>\n",
       "      <th>https://www.fl.ru/projects/5245046/</th>\n",
       "      <td>False</td>\n",
       "      <td>Дизайн и Арт/Логотипы</td>\n",
       "      <td>https://www.fl.ru/users/prosecutor34</td>\n",
       "      <td>False</td>\n",
       "    </tr>\n",
       "  </tbody>\n",
       "</table>\n",
       "</div>"
      ],
      "text/plain": [
       "                                    Закреплён ли конкурс  \\\n",
       "https://www.fl.ru/projects/5245046/                False   \n",
       "\n",
       "                                                    Раздел  \\\n",
       "https://www.fl.ru/projects/5245046/  Дизайн и Арт/Логотипы   \n",
       "\n",
       "                                                            URL заказчика  \\\n",
       "https://www.fl.ru/projects/5245046/  https://www.fl.ru/users/prosecutor34   \n",
       "\n",
       "                                    Платный аккаунт  \n",
       "https://www.fl.ru/projects/5245046/           False  "
      ]
     },
     "execution_count": 40,
     "metadata": {},
     "output_type": "execute_result"
    }
   ],
   "source": [
    "# Задача 3\n",
    "\n",
    "response2 = requests.get(df.loc[url_project, \"URL заказчика\"], headers=headers)\n",
    "df.loc[url_project, \"Платный аккаунт\"] = \"Платный аккаунт\" in response2.text\n",
    "df"
   ]
  },
  {
   "cell_type": "code",
   "execution_count": 41,
   "metadata": {},
   "outputs": [
    {
     "name": "stdout",
     "output_type": "stream",
     "text": [
      "Датафрейм готов\n"
     ]
    }
   ],
   "source": [
    "# Задача 4\n",
    "\n",
    "if df.shape[0] == 1 and df.shape[1] == 4:\n",
    "    print(\"Датафрейм готов\")\n",
    "else:\n",
    "    print(\"Датафрейм НЕ готов\")"
   ]
  },
  {
   "cell_type": "code",
   "execution_count": 57,
   "metadata": {},
   "outputs": [
    {
     "name": "stdout",
     "output_type": "stream",
     "text": [
      "Датафрейм готов\n"
     ]
    }
   ],
   "source": [
    "# Задача 5\n",
    "flag = True\n",
    "if df.shape[0] == 1 and df.shape[1] == 4:\n",
    "    for temp_url in df.index:\n",
    "        if df.loc[temp_url].isna().any() or df.loc[temp_url].apply(lambda x: x == \"\").any():\n",
    "            print(\"Датафрейм НЕ готов\")\n",
    "            flag = False\n",
    "            break\n",
    "    if flag is True:\n",
    "        print(\"Датафрейм готов\")\n",
    "else:\n",
    "    print(\"Датафрейм НЕ готов\")\n"
   ]
  },
  {
   "cell_type": "code",
   "execution_count": 51,
   "metadata": {},
   "outputs": [],
   "source": [
    "# Задача 6\n",
    "\n",
    "df.to_excel(f'FL_Конкурсы.xlsx', sheet_name=\"FL_Конкурсы\")"
   ]
  },
  {
   "cell_type": "code",
   "execution_count": 71,
   "metadata": {},
   "outputs": [
    {
     "data": {
      "text/plain": [
       "'Условия и порядок привлечения к дисциплинарной ответственности государственных гражданских служащих в Российской Федерации: вопросы теории и практики'"
      ]
     },
     "execution_count": 71,
     "metadata": {},
     "output_type": "execute_result"
    }
   ],
   "source": [
    "# Задача 7. Каталог ВКР ВШЭ: https://www.hse.ru/edu/vkr/ Создайте алгоритм, который находит аннотацию самой верхней на странице \n",
    "#(на момент обращения к ней) ВКР и URL-адрес, ведущий на страницу кампуса|факультета, где эта ВКР написана. \n",
    "#В итоговой выдаче не должно быть технических символов и|или двойных пробелов.\n",
    "\n",
    "\n",
    "#df = pd.DataFrame()\n",
    "url = f'https://www.hse.ru/edu/vkr/'\n",
    "response = requests.get(url, headers=headers)\n",
    "soup = BeautifulSoup(response.text, 'html.parser')\n",
    "vkr = soup.find('h3', class_='vkr-card__title')\n",
    "vkr_title = vkr.a.get_text(strip=True)\n",
    "vkr_title"
   ]
  },
  {
   "cell_type": "code",
   "execution_count": null,
   "metadata": {},
   "outputs": [],
   "source": []
  }
 ],
 "metadata": {
  "kernelspec": {
   "display_name": "Python 3 (ipykernel)",
   "language": "python",
   "name": "python3"
  },
  "language_info": {
   "codemirror_mode": {
    "name": "ipython",
    "version": 3
   },
   "file_extension": ".py",
   "mimetype": "text/x-python",
   "name": "python",
   "nbconvert_exporter": "python",
   "pygments_lexer": "ipython3",
   "version": "3.12.0"
  }
 },
 "nbformat": 4,
 "nbformat_minor": 4
}
