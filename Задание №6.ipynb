{
 "cells": [
  {
   "cell_type": "code",
   "execution_count": 1,
   "id": "71d9d739",
   "metadata": {},
   "outputs": [],
   "source": [
    "import datetime, os, pandas as pd, re, requests, time"
   ]
  },
  {
   "cell_type": "code",
   "execution_count": 2,
   "id": "c048c87d",
   "metadata": {},
   "outputs": [
    {
     "name": "stdout",
     "output_type": "stream",
     "text": [
      "Сегодняшняя дата: 20231015\n",
      "Сегодняшний год: 2023\n",
      "Сегодняшний месяц: 10\n",
      "Сегодняшний день: 15\n"
     ]
    }
   ],
   "source": [
    "today = datetime.date.today().strftime(\"%Y%m%d\")\n",
    "print (f'Сегодняшняя дата: {today}')\n",
    "print (f'Сегодняшний год: {today[:4]}')\n",
    "print (f'Сегодняшний месяц: {today[4:6]}')\n",
    "print (f'Сегодняшний день: {today[6:]}')\n",
    "path = r\"/Users/yanny/Desktop/Python\""
   ]
  },
  {
   "cell_type": "code",
   "execution_count": 3,
   "id": "40d6ee19",
   "metadata": {},
   "outputs": [],
   "source": [
    "def clndr_mdl(today):\n",
    "    calendar = pd.DataFrame()\n",
    "    month_n31 = ['02', '04', '06', '09', '11']\n",
    "    for month in range(1, 13):\n",
    "        month = '0' + str(month) if len(str(month)) == 1 else str(month)\n",
    "        if month == '02':\n",
    "            for day in range(1, 29):\n",
    "                day = '0' + str(day) if len(str(day)) == 1 else str(day)\n",
    "                calendar.loc[day, month] = day\n",
    "            if int(today[:4]) % 4 == 0:\n",
    "                calendar.loc['29', month] = '29'\n",
    "        elif month in month_n31:\n",
    "            for day in range(1, 31):\n",
    "                day = '0' + str(day) if len(str(day)) == 1 else str(day)\n",
    "                calendar.loc[day, month] = day\n",
    "        else:\n",
    "            for day in range(1, 32):\n",
    "                day = '0' + str(day) if len(str(day)) == 1 else str(day)\n",
    "                calendar.loc[day, month] = day\n",
    "    return calendar"
   ]
  },
  {
   "cell_type": "code",
   "execution_count": 4,
   "id": "5d0f2963",
   "metadata": {},
   "outputs": [
    {
     "name": "stdout",
     "output_type": "stream",
     "text": [
      "Alas\n",
      "The aggregated file does NOT exist in the 2023 year\n",
      "???\n",
      "Do you want to try the previous year?\n",
      " Press Enter. If you do not, input any symbol and then press Enter: \n",
      "Alas\n",
      "The aggregated file does NOT exist in the 2022 year\n",
      "???\n",
      "Do you want to try the previous year?\n",
      " Press Enter. If you do not, input any symbol and then press Enter: b\n"
     ]
    }
   ],
   "source": [
    "df = pd.DataFrame()\n",
    "year_shift = 0\n",
    "\n",
    "while year_shift >= 0:\n",
    "    calendar = clndr_mdl(str(int(today[:4]) - year_shift) + today[4:])\n",
    "    \n",
    "    if year_shift == 0:\n",
    "        months_for_search = calendar.columns[:int(today[4:6])]\n",
    "    elif year_shift > 0:\n",
    "        months_for_search = calendar.columns \n",
    "    else:\n",
    "        print ('Something is wrong')\n",
    "    \n",
    "    for j in months_for_search:\n",
    "        month = months_for_search[-int(j)]\n",
    "        for i in calendar[month].dropna().index:\n",
    "            day = calendar[month].dropna().index[-int(i)]\n",
    "            AGR_file_name = path + f'/FL_конкурсы_{str(int(today[:4]) - year_shift)}{month}{day}_Агрегированный.xlsx'\n",
    "            file_name = path + f'/FL_конкурсы_{today[:4]}{month}{day}.xlsx'\n",
    "            if os.path.exists(file_name):\n",
    "                df = pd.concat([df, pd.read_excel(file_name, index_col=0)])\n",
    "            if os.path.exists(AGR_file_name):\n",
    "                break\n",
    "        \n",
    "        if os.path.exists(AGR_file_name):\n",
    "            print('!!!', f'The file {AGR_file_name} exists', sep='\\n')\n",
    "            break\n",
    "\n",
    "    if os.path.exists(AGR_file_name) == False:\n",
    "        print('Alas', f'The aggregated file does NOT exist in the {str(int(today[:4]) - year_shift)} year', sep='\\n')\n",
    "        print('???', 'Do you want to try the previous year?', sep= '\\n')\n",
    "        dcsn = input(' Press Enter. If you do not, input any symbol and then press Enter: ')\n",
    "        if len(dcsn) == 0:\n",
    "            year_shift += 1\n",
    "        else:\n",
    "            year_shift = -1\n",
    "    else:\n",
    "        df = pd.concat([df, pd.read_excel(AGR_file_name, index_col=0)])\n",
    "        break\n",
    "\n",
    "df = df.groupby(level=0).first()\n",
    "\n",
    "df.to_excel(f'{path}/FL_Конкурсы_{today}_Агрегированный.xlsx', sheet_name='FL_конкурсы')"
   ]
  },
  {
   "cell_type": "code",
   "execution_count": null,
   "id": "56357674",
   "metadata": {},
   "outputs": [],
   "source": []
  }
 ],
 "metadata": {
  "kernelspec": {
   "display_name": "Python 3 (ipykernel)",
   "language": "python",
   "name": "python3"
  },
  "language_info": {
   "codemirror_mode": {
    "name": "ipython",
    "version": 3
   },
   "file_extension": ".py",
   "mimetype": "text/x-python",
   "name": "python",
   "nbconvert_exporter": "python",
   "pygments_lexer": "ipython3",
   "version": "3.12.3"
  }
 },
 "nbformat": 4,
 "nbformat_minor": 5
}
