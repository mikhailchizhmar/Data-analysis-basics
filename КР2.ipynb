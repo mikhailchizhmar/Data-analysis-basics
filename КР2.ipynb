{
 "cells": [
  {
   "cell_type": "markdown",
   "metadata": {
    "id": "_Nzsw1YEZXeK"
   },
   "source": [
    "Здравствуйте!\n",
    "\n",
    "Правила проведения контрольной работы: пользоваться можно чем угодно, но общаться ни с кем не надо – за это может быть штраф. И за выбор не своего варианта может быть штраф.\n",
    "\n",
    "Контрольная работа проходит в [webinar.ru](webinar.ru) в общем зале с включённым звуком у всех и – по просьбе преподавателя – с демонстрацией всего экрана **(а не какого-то отдельного окна – выбирайте левую верхнюю опцию)**. Поэтому постарайтесь найти нешумное место на время контрольной работы. Организационные и прочие уместные **вопросы задавайте письменно в чате, а не голосом**; за вопросы голосом в общем зале во время работы может быть штраф. Собственные наушники|аудиоколонки поставьте на минимальную громкость, чтобы случайные посторонние звуки в [webinar.ru](webinar.ru) не отвлекали вас.\n",
    "\n",
    "Если Вы встретитесь с **непреодолимыми затруднениями** при решении какой-либо задачи, можете обратиться письменно в чате к преподавателю за **подсказкой**. Но каждая подсказка предполагает штраф (2 балла из 10). Также можете попробовать **написать код для задач, следующих за нерешённой задачей**. Если он окажется верен, то получите за него какую-то часть балла.\n",
    "\n",
    "Запустите следующий чанк для получения задач. Решайте задачи прямо в **этом** скрипте. Выполненную работу (этот скрипт с решёнными задачами и итоговый файл формата .xlsx ) отправьте на адрес [task.hse.1@gmail.com](task.hse.1@gmail.com) не позднее 60 минут с начала работы."
   ]
  },
  {
   "cell_type": "code",
   "execution_count": 1,
   "metadata": {
    "id": "E0etWhwMZXec"
   },
   "outputs": [
    {
     "name": "stdin",
     "output_type": "stream",
     "text": [
      "Впишите свои фамилию и имя:  Шибина Яна\n"
     ]
    },
    {
     "ename": "FileNotFoundError",
     "evalue": "[Errno 2] No such file or directory: 'Варианты_2023_1.xlsx'",
     "output_type": "error",
     "traceback": [
      "\u001b[1;31m---------------------------------------------------------------------------\u001b[0m",
      "\u001b[1;31mFileNotFoundError\u001b[0m                         Traceback (most recent call last)",
      "Cell \u001b[1;32mIn[1], line 3\u001b[0m\n\u001b[0;32m      1\u001b[0m variant \u001b[38;5;241m=\u001b[39m \u001b[38;5;28mstr\u001b[39m(\u001b[38;5;28minput\u001b[39m(\u001b[38;5;124m'\u001b[39m\u001b[38;5;124mВпишите свои фамилию и имя: \u001b[39m\u001b[38;5;124m'\u001b[39m))\n\u001b[0;32m      2\u001b[0m \u001b[38;5;28;01mimport\u001b[39;00m \u001b[38;5;21;01mpandas\u001b[39;00m\n\u001b[1;32m----> 3\u001b[0m variantS_df \u001b[38;5;241m=\u001b[39m \u001b[43mpandas\u001b[49m\u001b[38;5;241;43m.\u001b[39;49m\u001b[43mread_excel\u001b[49m\u001b[43m(\u001b[49m\u001b[38;5;124;43m'\u001b[39;49m\u001b[38;5;124;43mВарианты_2023_1.xlsx\u001b[39;49m\u001b[38;5;124;43m'\u001b[39;49m\u001b[43m,\u001b[49m\u001b[43m \u001b[49m\u001b[43mindex_col\u001b[49m\u001b[38;5;241;43m=\u001b[39;49m\u001b[38;5;241;43m0\u001b[39;49m\u001b[43m)\u001b[49m\n\u001b[0;32m      4\u001b[0m \u001b[38;5;66;03m# variantS_df = pandas.read_csv('Варианты_2023_1.csv', index_col=0, encoding='utf8')\u001b[39;00m\n\u001b[0;32m      5\u001b[0m variantS_df \u001b[38;5;241m=\u001b[39m variantS_df\u001b[38;5;241m.\u001b[39mdropna()\n",
      "File \u001b[1;32m~\\AppData\\Local\\Programs\\Python\\Python312\\Lib\\site-packages\\pandas\\io\\excel\\_base.py:504\u001b[0m, in \u001b[0;36mread_excel\u001b[1;34m(io, sheet_name, header, names, index_col, usecols, dtype, engine, converters, true_values, false_values, skiprows, nrows, na_values, keep_default_na, na_filter, verbose, parse_dates, date_parser, date_format, thousands, decimal, comment, skipfooter, storage_options, dtype_backend, engine_kwargs)\u001b[0m\n\u001b[0;32m    502\u001b[0m \u001b[38;5;28;01mif\u001b[39;00m \u001b[38;5;129;01mnot\u001b[39;00m \u001b[38;5;28misinstance\u001b[39m(io, ExcelFile):\n\u001b[0;32m    503\u001b[0m     should_close \u001b[38;5;241m=\u001b[39m \u001b[38;5;28;01mTrue\u001b[39;00m\n\u001b[1;32m--> 504\u001b[0m     io \u001b[38;5;241m=\u001b[39m \u001b[43mExcelFile\u001b[49m\u001b[43m(\u001b[49m\n\u001b[0;32m    505\u001b[0m \u001b[43m        \u001b[49m\u001b[43mio\u001b[49m\u001b[43m,\u001b[49m\n\u001b[0;32m    506\u001b[0m \u001b[43m        \u001b[49m\u001b[43mstorage_options\u001b[49m\u001b[38;5;241;43m=\u001b[39;49m\u001b[43mstorage_options\u001b[49m\u001b[43m,\u001b[49m\n\u001b[0;32m    507\u001b[0m \u001b[43m        \u001b[49m\u001b[43mengine\u001b[49m\u001b[38;5;241;43m=\u001b[39;49m\u001b[43mengine\u001b[49m\u001b[43m,\u001b[49m\n\u001b[0;32m    508\u001b[0m \u001b[43m        \u001b[49m\u001b[43mengine_kwargs\u001b[49m\u001b[38;5;241;43m=\u001b[39;49m\u001b[43mengine_kwargs\u001b[49m\u001b[43m,\u001b[49m\n\u001b[0;32m    509\u001b[0m \u001b[43m    \u001b[49m\u001b[43m)\u001b[49m\n\u001b[0;32m    510\u001b[0m \u001b[38;5;28;01melif\u001b[39;00m engine \u001b[38;5;129;01mand\u001b[39;00m engine \u001b[38;5;241m!=\u001b[39m io\u001b[38;5;241m.\u001b[39mengine:\n\u001b[0;32m    511\u001b[0m     \u001b[38;5;28;01mraise\u001b[39;00m \u001b[38;5;167;01mValueError\u001b[39;00m(\n\u001b[0;32m    512\u001b[0m         \u001b[38;5;124m\"\u001b[39m\u001b[38;5;124mEngine should not be specified when passing \u001b[39m\u001b[38;5;124m\"\u001b[39m\n\u001b[0;32m    513\u001b[0m         \u001b[38;5;124m\"\u001b[39m\u001b[38;5;124man ExcelFile - ExcelFile already has the engine set\u001b[39m\u001b[38;5;124m\"\u001b[39m\n\u001b[0;32m    514\u001b[0m     )\n",
      "File \u001b[1;32m~\\AppData\\Local\\Programs\\Python\\Python312\\Lib\\site-packages\\pandas\\io\\excel\\_base.py:1563\u001b[0m, in \u001b[0;36mExcelFile.__init__\u001b[1;34m(self, path_or_buffer, engine, storage_options, engine_kwargs)\u001b[0m\n\u001b[0;32m   1561\u001b[0m     ext \u001b[38;5;241m=\u001b[39m \u001b[38;5;124m\"\u001b[39m\u001b[38;5;124mxls\u001b[39m\u001b[38;5;124m\"\u001b[39m\n\u001b[0;32m   1562\u001b[0m \u001b[38;5;28;01melse\u001b[39;00m:\n\u001b[1;32m-> 1563\u001b[0m     ext \u001b[38;5;241m=\u001b[39m \u001b[43minspect_excel_format\u001b[49m\u001b[43m(\u001b[49m\n\u001b[0;32m   1564\u001b[0m \u001b[43m        \u001b[49m\u001b[43mcontent_or_path\u001b[49m\u001b[38;5;241;43m=\u001b[39;49m\u001b[43mpath_or_buffer\u001b[49m\u001b[43m,\u001b[49m\u001b[43m \u001b[49m\u001b[43mstorage_options\u001b[49m\u001b[38;5;241;43m=\u001b[39;49m\u001b[43mstorage_options\u001b[49m\n\u001b[0;32m   1565\u001b[0m \u001b[43m    \u001b[49m\u001b[43m)\u001b[49m\n\u001b[0;32m   1566\u001b[0m     \u001b[38;5;28;01mif\u001b[39;00m ext \u001b[38;5;129;01mis\u001b[39;00m \u001b[38;5;28;01mNone\u001b[39;00m:\n\u001b[0;32m   1567\u001b[0m         \u001b[38;5;28;01mraise\u001b[39;00m \u001b[38;5;167;01mValueError\u001b[39;00m(\n\u001b[0;32m   1568\u001b[0m             \u001b[38;5;124m\"\u001b[39m\u001b[38;5;124mExcel file format cannot be determined, you must specify \u001b[39m\u001b[38;5;124m\"\u001b[39m\n\u001b[0;32m   1569\u001b[0m             \u001b[38;5;124m\"\u001b[39m\u001b[38;5;124man engine manually.\u001b[39m\u001b[38;5;124m\"\u001b[39m\n\u001b[0;32m   1570\u001b[0m         )\n",
      "File \u001b[1;32m~\\AppData\\Local\\Programs\\Python\\Python312\\Lib\\site-packages\\pandas\\io\\excel\\_base.py:1419\u001b[0m, in \u001b[0;36minspect_excel_format\u001b[1;34m(content_or_path, storage_options)\u001b[0m\n\u001b[0;32m   1416\u001b[0m \u001b[38;5;28;01mif\u001b[39;00m \u001b[38;5;28misinstance\u001b[39m(content_or_path, \u001b[38;5;28mbytes\u001b[39m):\n\u001b[0;32m   1417\u001b[0m     content_or_path \u001b[38;5;241m=\u001b[39m BytesIO(content_or_path)\n\u001b[1;32m-> 1419\u001b[0m \u001b[38;5;28;01mwith\u001b[39;00m \u001b[43mget_handle\u001b[49m\u001b[43m(\u001b[49m\n\u001b[0;32m   1420\u001b[0m \u001b[43m    \u001b[49m\u001b[43mcontent_or_path\u001b[49m\u001b[43m,\u001b[49m\u001b[43m \u001b[49m\u001b[38;5;124;43m\"\u001b[39;49m\u001b[38;5;124;43mrb\u001b[39;49m\u001b[38;5;124;43m\"\u001b[39;49m\u001b[43m,\u001b[49m\u001b[43m \u001b[49m\u001b[43mstorage_options\u001b[49m\u001b[38;5;241;43m=\u001b[39;49m\u001b[43mstorage_options\u001b[49m\u001b[43m,\u001b[49m\u001b[43m \u001b[49m\u001b[43mis_text\u001b[49m\u001b[38;5;241;43m=\u001b[39;49m\u001b[38;5;28;43;01mFalse\u001b[39;49;00m\n\u001b[0;32m   1421\u001b[0m \u001b[43m\u001b[49m\u001b[43m)\u001b[49m \u001b[38;5;28;01mas\u001b[39;00m handle:\n\u001b[0;32m   1422\u001b[0m     stream \u001b[38;5;241m=\u001b[39m handle\u001b[38;5;241m.\u001b[39mhandle\n\u001b[0;32m   1423\u001b[0m     stream\u001b[38;5;241m.\u001b[39mseek(\u001b[38;5;241m0\u001b[39m)\n",
      "File \u001b[1;32m~\\AppData\\Local\\Programs\\Python\\Python312\\Lib\\site-packages\\pandas\\io\\common.py:872\u001b[0m, in \u001b[0;36mget_handle\u001b[1;34m(path_or_buf, mode, encoding, compression, memory_map, is_text, errors, storage_options)\u001b[0m\n\u001b[0;32m    863\u001b[0m         handle \u001b[38;5;241m=\u001b[39m \u001b[38;5;28mopen\u001b[39m(\n\u001b[0;32m    864\u001b[0m             handle,\n\u001b[0;32m    865\u001b[0m             ioargs\u001b[38;5;241m.\u001b[39mmode,\n\u001b[1;32m   (...)\u001b[0m\n\u001b[0;32m    868\u001b[0m             newline\u001b[38;5;241m=\u001b[39m\u001b[38;5;124m\"\u001b[39m\u001b[38;5;124m\"\u001b[39m,\n\u001b[0;32m    869\u001b[0m         )\n\u001b[0;32m    870\u001b[0m     \u001b[38;5;28;01melse\u001b[39;00m:\n\u001b[0;32m    871\u001b[0m         \u001b[38;5;66;03m# Binary mode\u001b[39;00m\n\u001b[1;32m--> 872\u001b[0m         handle \u001b[38;5;241m=\u001b[39m \u001b[38;5;28;43mopen\u001b[39;49m\u001b[43m(\u001b[49m\u001b[43mhandle\u001b[49m\u001b[43m,\u001b[49m\u001b[43m \u001b[49m\u001b[43mioargs\u001b[49m\u001b[38;5;241;43m.\u001b[39;49m\u001b[43mmode\u001b[49m\u001b[43m)\u001b[49m\n\u001b[0;32m    873\u001b[0m     handles\u001b[38;5;241m.\u001b[39mappend(handle)\n\u001b[0;32m    875\u001b[0m \u001b[38;5;66;03m# Convert BytesIO or file objects passed with an encoding\u001b[39;00m\n",
      "\u001b[1;31mFileNotFoundError\u001b[0m: [Errno 2] No such file or directory: 'Варианты_2023_1.xlsx'"
     ]
    }
   ],
   "source": [
    "variant = str(input('Впишите свои фамилию и имя: '))\n",
    "import pandas\n",
    "variantS_df = pandas.read_excel('Варианты_2023_1.xlsx', index_col=0)\n",
    "# variantS_df = pandas.read_csv('Варианты_2023_1.csv', index_col=0, encoding='utf8')\n",
    "variantS_df = variantS_df.dropna()\n",
    "variantS_df = variantS_df[variantS_df['ФИО'] != 0]\n",
    "variant_df = variantS_df[variantS_df['ФИО'].str.contains(variant, case=False)]\n",
    "if len(variant_df) == 0:\n",
    "    print(\"Вы не найдены в списке студентов. Попробуйте перезапустить чанк и заново вписать свои фамилию и имя.\"\n",
    "          , \"Если это не поможет, обратитесь к преподавателю письменно в чате.\"\n",
    "          , sep='\\n')\n",
    "else:\n",
    "    display(variant_df.drop(variant_df.columns[-1], axis=1))\n",
    "    variant = int(input('Это Вы? Для подтверждения впишите НОМЕР ВАРИАНТА, соответствующий Вашим ФИО: '))\n",
    "    print(f\"***\"\n",
    "          , f\"Здравствуйте, {variant_df['ФИО'][variant].iloc[0]}!\"\n",
    "          , f\"***\"\n",
    "          , f\"{variantS_df.iloc[0, -1]}\"\n",
    "          , f\"***\"\n",
    "          , f\"{variant_df[variant_df.columns[-1]][variant].iloc[0]}\"\n",
    "          , f\"***\"\n",
    "          , f\"{variant_df[variant_df.columns[-1]][variant].iloc[1]}\"\n",
    "          , f\"***\"\n",
    "          , f\"{variantS_df.iloc[-6, -1]}\"\n",
    "          , f\"***\"\n",
    "          , f\"{variantS_df.iloc[-5, -1]}\"\n",
    "          , f\"***\"\n",
    "          , f\"{variantS_df.iloc[-4, -1]}\"\n",
    "          , f\"***\"\n",
    "          , f\"{variantS_df.iloc[-3, -1]}\"\n",
    "          , f\"***\"\n",
    "          , f\"{variantS_df.iloc[-2, -1]}\"\n",
    "          , f\"***\"\n",
    "          , f\"{variantS_df.iloc[-1, -1]}\"\n",
    "          , f\"***\"\n",
    "          , f\"Успеха!\"\n",
    "          , sep='\\n')"
   ]
  },
  {
   "cell_type": "code",
   "execution_count": null,
   "metadata": {},
   "outputs": [],
   "source": [
    "import pandas as pd, matplotlib.pyplot as plt\n",
    "from randan.descriptive_statistics import ScaleStatistics\n",
    "from randan.bivariate_association import Correlation"
   ]
  },
  {
   "cell_type": "code",
   "execution_count": null,
   "metadata": {
    "id": "fqV_fA4-ZXel",
    "scrolled": true
   },
   "outputs": [],
   "source": [
    "# Задача 0. Загрузите все базы данных из файлов Excel папки КР 2. Прочтите следующие задачи, чтобы выяснить, какие столбцы \n",
    "# понадобятся для их решения. Напишите алгоритм, который проверяет наличие этих столбцов в каждой из баз и объединяет подходящие базы в одну.\n",
    "df1 = pd.read_excel('FL_Конкурсы_20221126_Агрегированный_Промо.xlsx', index_col=0)\n",
    "df2 = pd.read_excel('FL_Конкурсы_20221126_Агрегированный_Репутационные.xlsx', index_col=0)\n",
    "df3 = pd.read_excel('FL_Конкурсы_20221126_Агрегированный_Содержательные.xlsx', index_col=0)\n",
    "df_list = [df1, df2, df3]\n",
    "df = pd.DataFrame()\n",
    "\n",
    "for el in df_list:\n",
    "    if \"Срочность конкурса\" in el.columns or \"Заказ закрыт\" in el.columns or \"Бюджет\" in el.columns or \"Кандидаты\" in el.columns:\n",
    "        df = pd.concat([df, el], axis=1)\n",
    "\n",
    "df"
   ]
  },
  {
   "cell_type": "code",
   "execution_count": null,
   "metadata": {
    "scrolled": true
   },
   "outputs": [],
   "source": [
    "# Задача 1. В объединённой базе отберите только объекты, которые удовлетворяют условию: 'Срочность конкурса' False и 'Заказ закрыт' True.\n",
    "\n",
    "df = df[(df['Срочность конкурса'] == 0) & (df[\"Заказ закрыт\"] == 1)]\n",
    "df"
   ]
  },
  {
   "cell_type": "code",
   "execution_count": null,
   "metadata": {},
   "outputs": [],
   "source": [
    "# Задача 2. Вам предлагаются следующие переменные из базы: 'Бюджет' и 'Кандидаты'. Дайте письменное описание этих переменных в терминах \n",
    "# типа шкалы переменной, насколько распределение однородно, симметрично или смещено, много ли выбросов. \n",
    "# Описание должно включать релевантные диаграммы и величины релевантных статистик.\n",
    "\n",
    "bss = ScaleStatistics(df, ['Бюджет'], normality_test=True)"
   ]
  },
  {
   "cell_type": "code",
   "execution_count": null,
   "metadata": {},
   "outputs": [],
   "source": [
    "# \"Бюджет\" - интервальная переменная\n",
    "# interquartile range (norm.) очень близок к нулю, что свидетельствует об однородности\n",
    "\n",
    "plt.hist(df['Бюджет'].dropna(), bins=20, color='purple')\n",
    "plt.title('Распределение бюджета заказов') \n",
    "plt.xlabel('Величина бюджета') \n",
    "plt.ylabel('Частоты');"
   ]
  },
  {
   "cell_type": "code",
   "execution_count": null,
   "metadata": {},
   "outputs": [],
   "source": [
    "# Наблюдаем однородность и сильное смещение значений в сторону значений 0-12500\n",
    "\n",
    "plt.boxplot(df['Бюджет'].dropna())\n",
    "plt.title('Распределение бюджета заказов') \n",
    "plt.xticks([])\n",
    "plt.xlabel('Бюджет');"
   ]
  },
  {
   "cell_type": "code",
   "execution_count": null,
   "metadata": {},
   "outputs": [],
   "source": [
    "# Видим достаточно большое число выбросов"
   ]
  },
  {
   "cell_type": "code",
   "execution_count": null,
   "metadata": {},
   "outputs": [],
   "source": [
    "css = ScaleStatistics(df, ['Кандидаты'], normality_test=True)"
   ]
  },
  {
   "cell_type": "code",
   "execution_count": null,
   "metadata": {},
   "outputs": [],
   "source": [
    "# \"Кандидаты\" - также интервальная переменная\n",
    "# interquartile range (norm.) тоже очень близок к нулю, что говорит об однородности\n",
    "\n",
    "plt.hist(df['Кандидаты'].dropna(), bins=20, color='blue')\n",
    "plt.title('Распределение количества кандидатов')\n",
    "plt.xlabel('Кандидаты')\n",
    "plt.ylabel('Частоты');"
   ]
  },
  {
   "cell_type": "code",
   "execution_count": null,
   "metadata": {},
   "outputs": [],
   "source": [
    "# Наблюдаем однородность и сильное смещение значений в сторону значений 0-1\n",
    "\n",
    "plt.boxplot(df['Кандидаты'].dropna())\n",
    "plt.title('Распределение количества кандидатов') \n",
    "plt.xticks([])\n",
    "plt.xlabel('Кандидаты');"
   ]
  },
  {
   "cell_type": "code",
   "execution_count": null,
   "metadata": {},
   "outputs": [],
   "source": [
    "# Количество выбросов даже больше, чем у переменной \"Бюджет\""
   ]
  },
  {
   "cell_type": "code",
   "execution_count": null,
   "metadata": {},
   "outputs": [],
   "source": [
    "# Задача 3. Постарайтесь письменно сформулировать для них содержательную гипотезу в терминах линейной связи: её отсутствия | наличия, \n",
    "# направления и силы. Также письменно сформулируйте релевантную статистическую гипотезу.\n",
    "\n",
    "# содержательную гипотеза: \"Между переменными 'Бюджет' и'Кандидаты' существует прямая слабая линейная связь\"\n",
    "# H0: линейная связь между переменными \"Бюджет\" и \"Кандидаты\" отсутствует\n",
    "# H1: линейная связь между переменными \"Бюджет\" и \"Кандидаты\" есть\n",
    "\n",
    "# доверительная вероятность 90%"
   ]
  },
  {
   "cell_type": "code",
   "execution_count": null,
   "metadata": {},
   "outputs": [],
   "source": [
    "# Задача 4. Проверьте эти гипотезы графически и математически.\n",
    "\n",
    "corr = Correlation(df[['Бюджет', 'Кандидаты']])"
   ]
  },
  {
   "cell_type": "code",
   "execution_count": null,
   "metadata": {},
   "outputs": [],
   "source": [
    "# коэффициент корреляции = 0.102, => корреляция слабая прямая\n",
    "# p-value < 0.1, поэтому мы можем доверять этому коэффициенту\n",
    "\n",
    "var = [\"Бюджет\", \"Кандидаты\"]\n",
    "plt.figure(figsize=(8,6))\n",
    "plt.scatter(df[var[0]], df[var[1]], c='red') # График для иллюстрации парной связи (сначала ось х, потом ось у)\n",
    "plt.title(f'Корреляция между переменной {var[0]} и переменной {var[1]}') # Заголовок графика\n",
    "plt.xlabel(var[0]) # Название оси Х\n",
    "plt.ylabel(var[1]);"
   ]
  },
  {
   "cell_type": "code",
   "execution_count": null,
   "metadata": {},
   "outputs": [],
   "source": [
    "# Малое количество точек лежит на диагонали, что свидетельствует о слабой связи"
   ]
  },
  {
   "cell_type": "code",
   "execution_count": null,
   "metadata": {},
   "outputs": [],
   "source": [
    "# Задача 5. Постарайтесь письменно сформулировать для них содержательную гипотезу в терминах КРИВОлинейной связи: \n",
    "# её наличия|отсутствия в целом и между отдельными категориями. Также письменно сформулируйте релевантную статистическую гипотезу.\n",
    "\n",
    "# содержательную гипотеза: \"Между переменными 'Бюджет' и'Кандидаты' существует криволинейная связь\"\n",
    "# H0: криволинейная связь между переменными \"Бюджет\" и \"Кандидаты\" отсутствует\n",
    "# H1: криволинейная связь между переменными \"Бюджет\" и \"Кандидаты\" есть\n",
    "\n",
    "# доверительная вероятность 90%"
   ]
  },
  {
   "cell_type": "code",
   "execution_count": null,
   "metadata": {},
   "outputs": [],
   "source": [
    "corr = Correlation(df[['Бюджет', 'Кандидаты']], method='kendall')"
   ]
  },
  {
   "cell_type": "code",
   "execution_count": null,
   "metadata": {},
   "outputs": [],
   "source": [
    "# Слишком большое значение p-value (> 0.1), что говорит нам об отсутствии криволинейной связи"
   ]
  },
  {
   "cell_type": "code",
   "execution_count": null,
   "metadata": {},
   "outputs": [],
   "source": [
    "# Задача 6. Проверьте эти гипотезы математически. Строго соблюдайте ограничения применяемых методов.\n",
    "var = [\"Бюджет\", \"Кандидаты\"]\n",
    "plt.figure(figsize=(8,6))\n",
    "plt.scatter(df[var[0]], df[var[1]], c='red') # График для иллюстрации парной связи (сначала ось х, потом ось у)\n",
    "plt.title(f'Корреляция между переменной {var[0]} и переменной {var[1]}') # Заголовок графика\n",
    "plt.xlabel(var[0]) # Название оси Х\n",
    "plt.ylabel(var[1]);"
   ]
  },
  {
   "cell_type": "code",
   "execution_count": null,
   "metadata": {},
   "outputs": [],
   "source": [
    "# График это подтверждает"
   ]
  }
 ],
 "metadata": {
  "colab": {
   "provenance": []
  },
  "kernelspec": {
   "display_name": "Python 3 (ipykernel)",
   "language": "python",
   "name": "python3"
  },
  "language_info": {
   "codemirror_mode": {
    "name": "ipython",
    "version": 3
   },
   "file_extension": ".py",
   "mimetype": "text/x-python",
   "name": "python",
   "nbconvert_exporter": "python",
   "pygments_lexer": "ipython3",
   "version": "3.12.3"
  }
 },
 "nbformat": 4,
 "nbformat_minor": 4
}
